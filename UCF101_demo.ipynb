{
 "cells": [
  {
   "cell_type": "code",
   "execution_count": 3,
   "metadata": {},
   "outputs": [],
   "source": [
    "from extractor import Extractor\n",
    "import os\n",
    "import glob\n",
    "import numpy as np\n",
    "import subprocess\n",
    "from datetime import datetime, timedelta\n",
    "from string import capwords\n",
    "import shutil\n",
    "from tqdm import tqdm\n",
    "from tqdm import trange\n",
    "\n",
    "\n",
    "class Preprocessor():\n",
    "    def __init__(self, class_names=None, src_dir=None, dest_dir=None, frame_dir=None, frames_per_video=40):\n",
    "        self.class_names = class_names\n",
    "        self.src_dir = src_dir\n",
    "        self.dest_dir = dest_dir\n",
    "        self.frame_dir = frame_dir\n",
    "        self.frames_per_video = frames_per_video\n",
    "        self.extractor = Extractor(frames_per_video=frames_per_video)\n",
    "        \n",
    "        if not os.path.exists(dest_dir):\n",
    "            os.makedirs(dest_dir)\n",
    "\n",
    "    def preprocess(self, classes = None):\n",
    "        if classes is None:\n",
    "            classes = range(len(self.class_names))\n",
    "        class_name_list = self.class_names[classes]\n",
    "        for i_class_name, class_name in enumerate(tqdm(class_name_list)):\n",
    "            class_dir = os.path.join(self.src_dir, class_name)\n",
    "            video_file_list = glob.glob(os.path.join(class_dir, '*.avi'))\n",
    "            for i_video, video_file in enumerate(video_file_list):\n",
    "                sequence, timing = self.extractor.extract(video_file, frame_dir)\n",
    "                dest = os.path.join(dest_dir, class_name + str(i_video))\n",
    "                np.save(file = dest, arr=sequence, allow_pickle=False)"
   ]
  },
  {
   "cell_type": "code",
   "execution_count": 4,
   "metadata": {},
   "outputs": [],
   "source": [
    "import subprocess"
   ]
  },
  {
   "cell_type": "code",
   "execution_count": null,
   "metadata": {},
   "outputs": [],
   "source": [
    "subprocess.call('wget http://crcv.ucf.edu/data/UCF101/UCF101.rar', shell=True)"
   ]
  },
  {
   "cell_type": "code",
   "execution_count": null,
   "metadata": {},
   "outputs": [],
   "source": [
    "subprocess.call('unrar x UCF101.rar',shell=True)"
   ]
  },
  {
   "cell_type": "code",
   "execution_count": 5,
   "metadata": {},
   "outputs": [],
   "source": [
    "src_dir = 'UCF-101'\n",
    "class_names = np.array([d[1+len(src_dir):]for d in glob.glob(os.path.join(src_dir, '*'))])\n",
    "class_names = np.sort(class_names)\n",
    "frames_per_video = 10\n",
    "dest_dir = src_dir + '-' + str(frames_per_video)\n",
    "frame_dir = 'temp_frame_dir'"
   ]
  },
  {
   "cell_type": "code",
   "execution_count": 6,
   "metadata": {},
   "outputs": [],
   "source": [
    "preprocessor = Preprocessor(\n",
    "    class_names=class_names,\n",
    "    src_dir=src_dir,\n",
    "    dest_dir=dest_dir,\n",
    "    frame_dir=frame_dir,\n",
    "    frames_per_video=frames_per_video\n",
    ")"
   ]
  },
  {
   "cell_type": "code",
   "execution_count": null,
   "metadata": {},
   "outputs": [
    {
     "name": "stderr",
     "output_type": "stream",
     "text": [
      "\r",
      "  0%|          | 0/101 [00:00<?, ?it/s]"
     ]
    }
   ],
   "source": [
    "preprocessor.preprocess()"
   ]
  },
  {
   "cell_type": "code",
   "execution_count": null,
   "metadata": {},
   "outputs": [],
   "source": []
  }
 ],
 "metadata": {
  "kernelspec": {
   "display_name": "Python 3",
   "language": "python",
   "name": "python3"
  },
  "language_info": {
   "codemirror_mode": {
    "name": "ipython",
    "version": 3
   },
   "file_extension": ".py",
   "mimetype": "text/x-python",
   "name": "python",
   "nbconvert_exporter": "python",
   "pygments_lexer": "ipython3",
   "version": "3.5.2"
  }
 },
 "nbformat": 4,
 "nbformat_minor": 2
}
